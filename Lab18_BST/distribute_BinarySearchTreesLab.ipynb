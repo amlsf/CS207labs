{
 "cells": [
  {
   "cell_type": "code",
   "execution_count": 3,
   "metadata": {
    "collapsed": true
   },
   "outputs": [],
   "source": [
    "import subprocess\n",
    "from IPython.display import Image\n",
    "import os.path\n",
    "def plotbtree(btree, fname, redo=False, augmented=False):\n",
    "    if os.path.exists(fname+\".png\") and not redo:\n",
    "        return Image(fname+\".png\")\n",
    "    start=\"\"\"\n",
    "    digraph G {\n",
    "    nodesep=0.3;\n",
    "    ranksep=0.2;\n",
    "    margin=0.1;\n",
    "    node [shape=circle];\n",
    "    edge [arrowsize=0.8];\n",
    "    \"\"\"\n",
    "    end = \"}\"\n",
    "    assert btree.isRoot(), \"Must start at root\"\n",
    "    lines=\"\"\n",
    "    labeldict={}\n",
    "    for t in btree.preorder():\n",
    "        if not t[0].uuid in labeldict:\n",
    "            labeldict[t[0].uuid]=t[0]\n",
    "        if not t[1].uuid in labeldict:\n",
    "            labeldict[t[1].uuid]=t[1]\n",
    "        lines = lines + \"\\\"{}\\\" -> \\\"{}\\\"[side={}];\\n\".format(t[0].uuid,t[1].uuid,t[2])\n",
    "    if augmented:\n",
    "        end=\"\\n\".join([\"\\\"{}\\\"[label=<{}<BR/><FONT POINT-SIZE=\\\"10\\\">{},{}</FONT>>]\".format(k,v.data,v.size, v.count) for (k, v) in labeldict.items()])+end\n",
    "    else:\n",
    "        end=\"\\n\".join([\"\\\"{}\\\"[label=<{}<BR/><FONT POINT-SIZE=\\\"10\\\">count={}</FONT>>]\".format(k,v.data,v.count) for (k, v) in labeldict.items()])+end\n",
    "       \n",
    "    start = start + lines +end\n",
    "    with open(fname+\".dot\",\"w\") as fd:\n",
    "        fd.write(start)\n",
    "    subprocess.call(['./treeplot.sh', fname])\n",
    "    return Image(fname+\".png\")"
   ]
  },
  {
   "cell_type": "code",
   "execution_count": 4,
   "metadata": {
    "collapsed": true
   },
   "outputs": [],
   "source": [
    "import uuid\n",
    "class BinaryTree:\n",
    "    def __init__(self, data, parent=None):\n",
    "        self.data = data\n",
    "        self.parent = parent\n",
    "        self.uuid= uuid.uuid4()\n",
    "        self.left = None\n",
    "        self.right = None    \n",
    "            \n",
    "    def addLeftChild(self, data): \n",
    "        n = self.__class__(data, self)\n",
    "        self.left = n\n",
    "        return n\n",
    "        \n",
    "    def addRightChild(self, data):\n",
    "        n = self.__class__(data, self)\n",
    "        self.right = n\n",
    "        return n\n",
    "        \n",
    "    def hasLeftChild(self):\n",
    "        return self.left is not None\n",
    "\n",
    "    def hasRightChild(self):\n",
    "        return self.right is not None\n",
    "\n",
    "    def hasAnyChild(self):\n",
    "        return self.hasRightChild() or self.hasLeftChild()\n",
    "\n",
    "    def hasBothChildren(self):\n",
    "        return self.hasRightChild() and self.hasLeftChild()\n",
    "    \n",
    "    def hasNoChildren(self):\n",
    "        return not self.hasRightChild() and not self.hasLeftChild()\n",
    "    \n",
    "    def isLeftChild(self):\n",
    "        return self.parent and self.parent.left == self\n",
    "\n",
    "    def isRightChild(self):\n",
    "        return self.parent and self.parent.right == self\n",
    "\n",
    "    def isRoot(self):\n",
    "        return not self.parent\n",
    "\n",
    "    def isLeaf(self):\n",
    "        return not (self.right or self.left)\n",
    "    \n",
    "            \n",
    "    def preorder(self):\n",
    "        if self.isLeftChild():\n",
    "            yield (self.parent, self, \"left\")\n",
    "        elif self.isRightChild():\n",
    "            yield (self.parent, self, \"right\")\n",
    "        if self.hasLeftChild():\n",
    "            for v in self.left.preorder():\n",
    "                yield v\n",
    "        if self.hasRightChild():\n",
    "            for v in self.right.preorder():\n",
    "                yield v\n"
   ]
  },
  {
   "cell_type": "code",
   "execution_count": 5,
   "metadata": {
    "collapsed": true
   },
   "outputs": [],
   "source": [
    "class BinarySearchTree(BinaryTree):\n",
    "        \n",
    "    def __init__(self, data, parent=None):\n",
    "        super().__init__(data, parent)\n",
    "        self.count = 1\n",
    "\n",
    "    def _insert_hook(self):\n",
    "        pass\n",
    "            \n",
    "    def insert(self, data):\n",
    "        if data < self.data:\n",
    "            if self.hasLeftChild():\n",
    "                self.left.insert(data)\n",
    "            else:\n",
    "                self.addLeftChild(data)\n",
    "                self._insert_hook()\n",
    "        elif data > self.data:\n",
    "            if self.hasRightChild():\n",
    "                self.right.insert(data)\n",
    "            else:\n",
    "                self.addRightChild(data)\n",
    "                self._insert_hook()\n",
    "        else: #duplicate value\n",
    "            self.count += 1\n",
    "            self._insert_hook()\n",
    "            \n",
    "    def search(self, data):\n",
    "        if self.data == data:\n",
    "            return self\n",
    "        elif data < self.data and self.left:\n",
    "            return self.left.search(data)\n",
    "        elif data > self.data and self.right:\n",
    "            return self.right.search(data)\n",
    "        else:\n",
    "            return None\n",
    "        \n",
    "    def delete(self, data):        \n",
    "        if self.isRoot() and self.hasNoChildren() and self.data==data:#deleting the whole tree\n",
    "            self.root=None#todo call a destructor that signals GC it can reap\n",
    "            #self._update_sizes(up=False) #really tree is gone\n",
    "            self._remove_hook()\n",
    "        elif self.hasAnyChild():\n",
    "            noder = self.search(data)\n",
    "            if noder:\n",
    "                self._remove(noder)\n",
    "            else:\n",
    "                raise ValueError(\"No such data {} in tree\".format(data))\n",
    "        else:\n",
    "            raise ValueError(\"No such data {} in tree\".format(data))\n",
    "\n",
    "    def _remove_hook(self, up=False, by=1):\n",
    "        pass\n",
    "    \n",
    "    def _remove(self, node):\n",
    "        if node.isLeaf():\n",
    "            if node.isLeftChild():\n",
    "                node.parent.left = None\n",
    "            else:\n",
    "                node.parent.right = None\n",
    "            #node._update_sizes(up=False, by=node.count)\n",
    "            node._remove_hook(by=node.count)\n",
    "            del node\n",
    "        elif node.hasBothChildren():\n",
    "            s = node.successor()\n",
    "            #successor is guaranteed to have right child only\n",
    "            s.spliceOut()\n",
    "            #s._update_sizes(up=False, by=s.count)\n",
    "            s._remove_hook(by=s.count)\n",
    "            #handled more generally above\n",
    "            #s.right.parent = s.parent\n",
    "            #s.parent.left = s.right\n",
    "            node.data = s.data\n",
    "            #diff = s.count - node.count            \n",
    "            #node._update_sizes(by=diff)\n",
    "            node._remove_hook(up=True, by = s.count - node.count)\n",
    "            node.count = s.count\n",
    "            del s #the node became the successor\n",
    "        else: # one child case\n",
    "            if node.hasLeftChild():\n",
    "                if node.isLeftChild():\n",
    "                    node.left.parent = node.parent\n",
    "                    node.parent.left = node.left\n",
    "                elif node.isRightChild():\n",
    "                    node.left.parent = node.parent\n",
    "                    node.parent.right = node.left\n",
    "                else: #root\n",
    "                    self.root = node.left\n",
    "                #node._update_sizes(up=False, by=node.count)\n",
    "                node._remove_hook(by=node.count)\n",
    "                del node\n",
    "            else:\n",
    "                if node.isLeftChild():\n",
    "                    node.right.parent = node.parent\n",
    "                    node.parent.left = node.right\n",
    "                elif node.isRightChild():\n",
    "                    node.right.parent = node.parent\n",
    "                    node.parent.right = node.right\n",
    "                else: #root\n",
    "                    self.root = node.right\n",
    "                #node._update_sizes(up=False, by=node.count)\n",
    "                node._remove_hook(by=node.count)\n",
    "                del node\n",
    "                    \n",
    "    def findMin(self):\n",
    "        minnode = self\n",
    "        while minnode.hasLeftChild():\n",
    "            minnode = minnode.left\n",
    "        return minnode\n",
    "    \n",
    "    def findMax(self):\n",
    "        maxnode = self\n",
    "        while maxnode.hasRightChild():\n",
    "            maxnode = maxnode.right\n",
    "        return maxnode\n",
    "    \n",
    "    def successor(self):\n",
    "        s = None\n",
    "        if self.hasRightChild():\n",
    "            s = self.right.findMin()\n",
    "        else:\n",
    "            if self.parent:\n",
    "                if self.isLeftChild():\n",
    "                    s = self.parent\n",
    "                else:\n",
    "                    self.parent.right=None\n",
    "                    s = self.parent.successor()\n",
    "                    self.parent.right=self\n",
    "        return s\n",
    "    \n",
    "    def predecessor(self):\n",
    "        p=None\n",
    "        if self.hasLeftChild():\n",
    "            p = self.left.findMax()\n",
    "        else:\n",
    "            if self.parent:\n",
    "                if self.isRightChild():\n",
    "                    p = self.parent\n",
    "                else:\n",
    "                    self.parent.left = None\n",
    "                    p = self.parent.predecessor()\n",
    "                    self.parent.left = self\n",
    "        return p\n",
    "            \n",
    "    def spliceOut(self):\n",
    "        if self.isLeaf():\n",
    "            if self.isLeftChild():\n",
    "                self.parent.left = None\n",
    "            else:\n",
    "                self.parent.right = None\n",
    "        elif self.hasAnyChild():\n",
    "            if self.hasLeftChild():\n",
    "                if self.isLeftChild():\n",
    "                    self.parent.left = self.left\n",
    "                else:\n",
    "                    self.parent.right = self.left\n",
    "                self.left.parent = self.parent\n",
    "            else:\n",
    "                if self.isLeftChild():\n",
    "                    self.parent.left = self.right\n",
    "                else:\n",
    "                    self.parent.right = self.right\n",
    "                self.right.parent = self.parent\n",
    "       \n",
    "\n",
    "    #now implement various pythonic things\n",
    "    \n",
    "    def __iter__(self):\n",
    "        if self is not None:\n",
    "            if self.hasLeftChild():\n",
    "                for node in self.left:\n",
    "                    yield node\n",
    "            for _ in range(self.count):\n",
    "                yield self\n",
    "            if self.hasRightChild():\n",
    "                for node in self.right:\n",
    "                    yield node\n",
    "                    \n",
    "    def __len__(self):#expensive O(n) version\n",
    "        start=0\n",
    "        for node in self:\n",
    "            start += 1\n",
    "        return start\n",
    "    \n",
    "    def __getitem__(self, i):\n",
    "        return self.ithorder(i+1)\n",
    "    \n",
    "    def __contains__(self, data):\n",
    "        return self.search(data) is not None"
   ]
  },
  {
   "cell_type": "markdown",
   "metadata": {},
   "source": [
    "## Q1.\n",
    "\n",
    "Rank in an Augmented BST.\n",
    "\n",
    "Given a key, what is its rank?\n",
    "\n",
    "Write this in a method:\n",
    "\n",
    "`def rankof(self, data):` which returns a list of the ranks for this key. Hint: it might be easy to get the largest rank for a key first, and then using the count for that key, return the list. Its possible to this in one traversal."
   ]
  },
  {
   "cell_type": "code",
   "execution_count": 6,
   "metadata": {
    "collapsed": true
   },
   "outputs": [],
   "source": [
    "class AugmentedBinarySearchTree(BinarySearchTree):\n",
    "        \n",
    "    def __init__(self, data, parent=None):\n",
    "        super().__init__(data, parent)\n",
    "        self.size = 1\n",
    "        \n",
    "    def _update_sizes(self, up=True, by=1):\n",
    "        if up:\n",
    "            inc = by\n",
    "        else:\n",
    "            inc = -by\n",
    "        self.size += inc\n",
    "        curr = self\n",
    "        while curr.parent is not None:\n",
    "            curr.parent.size += inc\n",
    "            curr = curr.parent\n",
    "       \n",
    "    def _insert_hook(self):#insert up, by 1\n",
    "        self._update_sizes()\n",
    "            \n",
    "    def _remove_hook(self, up=False, by=1):\n",
    "        self._update_sizes(up, by)\n",
    "        \n",
    "    \n",
    "    def ithorder(self, i): #starts from 1\n",
    "        if self.hasLeftChild():\n",
    "            a = self.left.size\n",
    "        else:\n",
    "            a = 0\n",
    "        dupes = self.count - 1\n",
    "        if  a+1 <= i  < a+1 + dupes:\n",
    "            return self\n",
    "        if i < a + 1 : #wont go here for size 0 on left\n",
    "            return self.left.ithorder(i)\n",
    "        elif  a+1 <= i  <= a+1 + dupes:\n",
    "            return self\n",
    "        else:#ok to have self.right here and not check right child\n",
    "            return self.right.ithorder(i - a -1 -dupes)\n",
    "       \n",
    "    #now implement various pythonic things\n",
    "    \n",
    "    def __len__(self):\n",
    "        return self.size\n",
    "\n",
    "    \n",
    "    def __getitem__(self, i):\n",
    "        return self.ithorder(i+1)\n",
    "    \n",
    "    #your code here\n",
    "\n",
    "    # TODO understand this\n",
    "    def _rankof(self, data):\n",
    "        if self.data == data:#found at top\n",
    "            if self.hasLeftChild():\n",
    "                return self.left.size + self.count, self.count\n",
    "            else:\n",
    "                return self.count, self.count\n",
    "        elif data < self.data and self.left:\n",
    "            return self.left._rankof(data)\n",
    "        elif data > self.data and self.right:\n",
    "            rtup = self.right._rankof(data)\n",
    "            if self.hasLeftChild():\n",
    "                return self.count + self.left.size+rtup[0], rtup[1]\n",
    "            else:\n",
    "                return self.count + rtup[0], rtup[1]\n",
    "        else:\n",
    "            raise ValueError(\"{} not found\".format(x))\n",
    "    \n",
    "    # Deal with duplicates here\n",
    "    def rankof(self, data):\n",
    "        ranktup = self._rankof(data)\n",
    "        return [ranktup[0] - e for e in range(ranktup[1])]    "
   ]
  },
  {
   "cell_type": "code",
   "execution_count": 7,
   "metadata": {
    "collapsed": true
   },
   "outputs": [],
   "source": [
    "# TODO try to find the rank\n",
    "# describe in words how you would find the rank of something. Give element X.... what is the index of the array \n",
    "# in the binary tree (think without duplicates)\n",
    "# (equivalent to .index in Python) - find it in the tree\n",
    "# Now, maintained number of sizes in tree, tells size of tree below it, that's all we need to know \n",
    "\n",
    "# things are slightly different on right side because just have to add stuff on left side to it, otheriwse it's fine\n",
    "# Go and find right stuff and then thing of rtup as 0 \n",
    "# go to left.count, which is 1 at top of tree, left side everything and then done \n",
    "# again, recursive algorithm, quite simple "
   ]
  },
  {
   "cell_type": "markdown",
   "metadata": {},
   "source": [
    "Check that you get the currect answer for both lists from the lecture"
   ]
  },
  {
   "cell_type": "code",
   "execution_count": 8,
   "metadata": {
    "collapsed": true
   },
   "outputs": [],
   "source": [
    "ourlist=[17,5,35,2,11,29,38,9,16,7,8]\n",
    "duplist=[17,5,35,2,11,29,38,9,16,7,8,7,35,5,16,9,5]\n",
    "def btree_fromlist(inputlist, cls=BinarySearchTree):\n",
    "    start=inputlist[0]\n",
    "    rest=inputlist[1:]\n",
    "    btree = cls(start)\n",
    "    for item in rest:\n",
    "        btree.insert(item)\n",
    "    return btree"
   ]
  },
  {
   "cell_type": "code",
   "execution_count": 9,
   "metadata": {
    "collapsed": false
   },
   "outputs": [
    {
     "name": "stdout",
     "output_type": "stream",
     "text": [
      "[2, 5, 7, 8, 9, 11, 16, 17, 29, 35, 38] 11\n"
     ]
    }
   ],
   "source": [
    "btree = btree_fromlist(ourlist, AugmentedBinarySearchTree)\n",
    "print([e.data for e in btree], len(btree))"
   ]
  },
  {
   "cell_type": "code",
   "execution_count": 10,
   "metadata": {
    "collapsed": false
   },
   "outputs": [
    {
     "data": {
      "image/png": "[encoded data removed]",
      "text/plain": [
       "<IPython.core.display.Image object>"
      ]
     },
     "execution_count": 10,
     "metadata": {},
     "output_type": "execute_result"
    }
   ],
   "source": [
    "plotbtree(btree, 'oninsertsaug', augmented=True, redo=False)"
   ]
  },
  {
   "cell_type": "code",
   "execution_count": 11,
   "metadata": {
    "collapsed": false
   },
   "outputs": [
    {
     "name": "stdout",
     "output_type": "stream",
     "text": [
      "[2, 5, 5, 5, 7, 7, 8, 9, 9, 11, 16, 16, 17, 29, 35, 35, 38] 17 17\n"
     ]
    }
   ],
   "source": [
    "btreedup = btree_fromlist(duplist, AugmentedBinarySearchTree)\n",
    "print([e.data for e in btreedup], len(btreedup), len(duplist))"
   ]
  },
  {
   "cell_type": "code",
   "execution_count": 12,
   "metadata": {
    "collapsed": false
   },
   "outputs": [
    {
     "data": {
      "image/png": "[encoded data removed]",
      "text/plain": [
       "<IPython.core.display.Image object>"
      ]
     },
     "execution_count": 12,
     "metadata": {},
     "output_type": "execute_result"
    }
   ],
   "source": [
    "plotbtree(btreedup, 'oninsertsdupaug', augmented=True, redo=False)"
   ]
  },
  {
   "cell_type": "code",
   "execution_count": 13,
   "metadata": {
    "collapsed": false
   },
   "outputs": [
    {
     "name": "stdout",
     "output_type": "stream",
     "text": [
      "17 [8]\n",
      "5 [2]\n",
      "35 [10]\n",
      "2 [1]\n",
      "11 [6]\n",
      "29 [9]\n",
      "38 [11]\n",
      "9 [5]\n",
      "16 [7]\n",
      "7 [3]\n",
      "8 [4]\n"
     ]
    }
   ],
   "source": [
    "for v in ourlist:\n",
    "    print(v, btree.rankof(v))"
   ]
  },
  {
   "cell_type": "code",
   "execution_count": 14,
   "metadata": {
    "collapsed": false
   },
   "outputs": [
    {
     "name": "stdout",
     "output_type": "stream",
     "text": [
      "17 [13]\n",
      "5 [4, 3, 2]\n",
      "35 [16, 15]\n",
      "2 [1]\n",
      "11 [10]\n",
      "29 [14]\n",
      "38 [17]\n",
      "9 [9, 8]\n",
      "16 [12, 11]\n",
      "7 [6, 5]\n",
      "8 [7]\n",
      "7 [6, 5]\n",
      "35 [16, 15]\n",
      "5 [4, 3, 2]\n",
      "16 [12, 11]\n",
      "9 [9, 8]\n",
      "5 [4, 3, 2]\n"
     ]
    }
   ],
   "source": [
    "for v in duplist:\n",
    "    print(v, btreedup.rankof(v))"
   ]
  },
  {
   "cell_type": "markdown",
   "metadata": {},
   "source": [
    "## Q2.\n",
    "\n",
    "Implement a Key-Value Search true, which allows no duplicates, but rather, updates the value associated with the key. This will change how `insert` works. Inherit from the augmented tree:\n",
    "\n",
    "`class KeyValueBinarySearchTree(AugmentedBinarySearchTree):`\n",
    "\n",
    "- The constructor should look like this: `def __init__(self, key_value_tuple, parent=None):`. Pick the key and value out separately in the constructor, and initialize the super with just the key, setting an instance variable `self.value` to the value.\n",
    "- insert wont duplicate any more, and `addLeftChild` and `addRightChild` will need to take the tuple in as they call the constructor for us.\n",
    "- implement a `__getitem__`, `__setitem__`, and `__delitem__` so that you can use code like:\n",
    "\n",
    "`btreekv['f']` for searching\n",
    "\n",
    "`btreekv['f']=10` for inserting"
   ]
  },
  {
   "cell_type": "code",
   "execution_count": 15,
   "metadata": {
    "collapsed": false
   },
   "outputs": [],
   "source": [
    "#your code here\n",
    "# TODO \n",
    "\n",
    "# no duplicates allowed, need to update\n",
    "\n",
    "class KeyValueBinarySearchTree(AugmentedBinarySearchTree):\n",
    "\n",
    "    def __init__(self, tup, parent=None):\n",
    "        data, v = tup\n",
    "        self.value = v\n",
    "        self.data = data\n",
    "        super().__init__(data, parent)\n",
    "\n",
    "    # Recursive algorithms - think about base case and other case, and everything nicely falls into place\n",
    "    # Just think of each node as a tree in itself\n",
    "    def insert(self, tup):\n",
    "        data, value = tup\n",
    "        if data < self.data:\n",
    "            if self.hasLeftChild():\n",
    "                self.left.insert(tup)\n",
    "            else:\n",
    "                self.addLeftChild(tup)\n",
    "                self._insert_hook()\n",
    "        elif data > self.data:\n",
    "            if self.hasRightChild():\n",
    "                self.right.insert(tup)\n",
    "            else:\n",
    "                self.addRightChild(tup)\n",
    "                self._insert_hook()\n",
    "        else: #no duplicate value\n",
    "            self.value = value \n",
    "            self._insert_hook()\n",
    "        \n",
    "    def __getitem__(self, i):\n",
    "        if isinstance(i, str):\n",
    "            return self.ithorder(self.rankof(str(i))[0]).value \n",
    "        else:\n",
    "            return self.ithorder(i+1).value\n",
    "        \n",
    "    def __setitem__(self, i, val):\n",
    "        if isinstance(i, str):      \n",
    "            return self.insert((str(i), val))           \n",
    "        else:\n",
    "            return self.insert(i+1, val)"
   ]
  },
  {
   "cell_type": "code",
   "execution_count": 22,
   "metadata": {
    "collapsed": false
   },
   "outputs": [],
   "source": [
    "btreekv = KeyValueBinarySearchTree(('f', 3))"
   ]
  },
  {
   "cell_type": "code",
   "execution_count": 23,
   "metadata": {
    "collapsed": true
   },
   "outputs": [],
   "source": [
    "kvdata=zip(list('jeihrifhkdfks'), range(13))"
   ]
  },
  {
   "cell_type": "code",
   "execution_count": 18,
   "metadata": {
    "collapsed": true
   },
   "outputs": [],
   "source": [
    "for k,v in kvdata:\n",
    "    btreekv[k]=v"
   ]
  },
  {
   "cell_type": "code",
   "execution_count": 19,
   "metadata": {
    "collapsed": false
   },
   "outputs": [
    {
     "data": {
      "text/plain": [
       "[('d', 9),\n",
       " ('e', 1),\n",
       " ('f', 10),\n",
       " ('h', 7),\n",
       " ('i', 5),\n",
       " ('j', 0),\n",
       " ('k', 11),\n",
       " ('r', 4),\n",
       " ('s', 12)]"
      ]
     },
     "execution_count": 19,
     "metadata": {},
     "output_type": "execute_result"
    }
   ],
   "source": [
    "[(e.data, e.value) for e in list(btreekv)]"
   ]
  },
  {
   "cell_type": "code",
   "execution_count": 20,
   "metadata": {
    "collapsed": false
   },
   "outputs": [
    {
     "data": {
      "text/plain": [
       "10"
      ]
     },
     "execution_count": 20,
     "metadata": {},
     "output_type": "execute_result"
    }
   ],
   "source": [
    "btreekv['f']"
   ]
  },
  {
   "cell_type": "code",
   "execution_count": 21,
   "metadata": {
    "collapsed": false
   },
   "outputs": [
    {
     "data": {
      "image/png": "[encoded data removed]",
      "text/plain": [
       "<IPython.core.display.Image object>"
      ]
     },
     "execution_count": 21,
     "metadata": {},
     "output_type": "execute_result"
    }
   ],
   "source": [
    "plotbtree(btreekv, 'oninsertsdupaugkv', augmented=True, redo=False)"
   ]
  },
  {
   "cell_type": "markdown",
   "metadata": {},
   "source": [
    "## Q3.\n",
    "\n",
    "Use your code to make a third implementation of the `SimpleSet` interface from Monday."
   ]
  },
  {
   "cell_type": "code",
   "execution_count": null,
   "metadata": {
    "collapsed": true
   },
   "outputs": [],
   "source": [
    "# My code here\n",
    "\n",
    "# implement Simplset in terms of this, use this as your storage. Not inheriting from it\n",
    "# Why didn't he inherit today?  \n",
    "# augmented BSt is still a BST, dictionary or set is not a BST, but use BST to implement\n",
    "# that's why we used composition\n",
    "# we could inherit, but then would start leaking methods of BST out to dictionary which should not do that\n",
    "# good code practice, don't leak abstractions, even if you technically can. By convention. \n",
    "# only the interface that matters "
   ]
  },
  {
   "cell_type": "code",
   "execution_count": 45,
   "metadata": {
    "collapsed": false
   },
   "outputs": [],
   "source": [
    "# from class notes\n",
    "\n",
    "\n",
    "import abc\n",
    "class SimpleSetInterface(abc.ABC):\n",
    "    \n",
    "    @abc.abstractmethod\n",
    "    def __len__(self):\n",
    "        \"A SimpleSet has a length\"\n",
    "        \n",
    "    @abc.abstractmethod\n",
    "    def __iter__(self):\n",
    "        \"iteration. order is not guaranteed\"\n",
    "    \n",
    "    @abc.abstractmethod\n",
    "    def __contains__(self, item)->bool:\n",
    "        \"A test for whether item is in set\"\n",
    "        \n",
    "    @abc.abstractmethod\n",
    "    def add(self, item)->None:\n",
    "        \"add item to set\"\n",
    "        \n",
    "    @abc.abstractmethod\n",
    "    def rem(self, item)->None:\n",
    "        \"delete item from set\"\n",
    "        \n",
    "    @abc.abstractmethod\n",
    "    def union(self, other):\n",
    "        \"union with another set\"\n",
    "        \n",
    "    @abc.abstractmethod\n",
    "    def intersection(self, other):\n",
    "        \"intersection with another set\""
   ]
  },
  {
   "cell_type": "code",
   "execution_count": 51,
   "metadata": {
    "collapsed": true
   },
   "outputs": [],
   "source": [
    "# TODO \n",
    "\n",
    "import reprlib\n",
    "class SimpleSet3:\n",
    "    \"\"\"\n",
    "    AbsFun: the list [a,b,...,z] represents the\n",
    "    set  a,b,...,z.\n",
    "    [] represents the empty set.\n",
    "    \n",
    "    RepInv: the list contains no duplicates.\n",
    "    \n",
    "    Examples:\n",
    "    \n",
    "    >>> A=SimpleSet3([1,2,3,1])\n",
    "    >>> B=SimpleSet3([2,3,4,4,5])\n",
    "    >>> sorted(list(A))\n",
    "    [1, 2, 3]\n",
    "    >>> sorted(list(A.union(B)))\n",
    "    [1, 2, 3, 4, 5]\n",
    "    >>> sorted(list(A.intersection(B)))\n",
    "    [2, 3]\n",
    "    >>> A.rem(1)\n",
    "    >>> sorted(list(A))\n",
    "    [2, 3]\n",
    "    >>> C=SimpleSet3()\n",
    "    >>> C\n",
    "    {}\n",
    "    >>> sorted(list(C.union(A)))\n",
    "    [2, 3]\n",
    "    >>> sorted(list(C.intersection(A)))\n",
    "    []\n",
    "    \"\"\"\n",
    "    def __init__(self, container=[]):\n",
    "        if container:\n",
    "            self._storage=[]\n",
    "            for ele in container:\n",
    "                self.add(ele)#makes sure repinv is respected\n",
    "        else:\n",
    "            self._storage = []\n",
    "        \n",
    "    def __contains__(self, item):\n",
    "        if item in self._storage:\n",
    "            return True\n",
    "        else:\n",
    "            return False\n",
    "        \n",
    "    def __len__(self):\n",
    "        return len(self._storage)\n",
    "    \n",
    "    def __iter__(self):\n",
    "        for ele in self._storage:\n",
    "            yield ele\n",
    "            \n",
    "    def add(self, item):\n",
    "        if item not in self._storage:\n",
    "            self._storage.append(item)\n",
    "        \n",
    "    def rem(self, item): #this is now right\n",
    "        index = self._storage.remove(item)\n",
    "        \n",
    "    def union(self, other):\n",
    "        s = SimpleSet3(self._storage + other._storage)\n",
    "        return s\n",
    "    \n",
    "    def intersection(self, other):\n",
    "        intlist = list(filter(lambda x : x in other._storage, self._storage))\n",
    "        s = SimpleSet3(intlist)\n",
    "        return s\n",
    "    \n",
    "    def __repr__(self):\n",
    "        return reprlib.repr(self._storage).replace('[','{').replace(']','}')\n",
    "    "
   ]
  },
  {
   "cell_type": "code",
   "execution_count": 52,
   "metadata": {
    "collapsed": false
   },
   "outputs": [
    {
     "name": "stdout",
     "output_type": "stream",
     "text": [
      "Finding tests in NoName\n",
      "Trying:\n",
      "    A=SimpleSet3([1,2,3,1])\n",
      "Expecting nothing\n",
      "ok\n",
      "Trying:\n",
      "    B=SimpleSet3([2,3,4,4,5])\n",
      "Expecting nothing\n",
      "ok\n",
      "Trying:\n",
      "    sorted(list(A))\n",
      "Expecting:\n",
      "    [1, 2, 3]\n",
      "ok\n",
      "Trying:\n",
      "    sorted(list(A.union(B)))\n",
      "Expecting:\n",
      "    [1, 2, 3, 4, 5]\n",
      "ok\n",
      "Trying:\n",
      "    sorted(list(A.intersection(B)))\n",
      "Expecting:\n",
      "    [2, 3]\n",
      "ok\n",
      "Trying:\n",
      "    A.rem(1)\n",
      "Expecting nothing\n",
      "ok\n",
      "Trying:\n",
      "    sorted(list(A))\n",
      "Expecting:\n",
      "    [2, 3]\n",
      "ok\n",
      "Trying:\n",
      "    C=SimpleSet3()\n",
      "Expecting nothing\n",
      "ok\n",
      "Trying:\n",
      "    C\n",
      "Expecting:\n",
      "    {}\n",
      "ok\n",
      "Trying:\n",
      "    sorted(list(C.union(A)))\n",
      "Expecting:\n",
      "    [2, 3]\n",
      "ok\n",
      "Trying:\n",
      "    sorted(list(C.intersection(A)))\n",
      "Expecting:\n",
      "    []\n",
      "ok\n"
     ]
    }
   ],
   "source": [
    "from doctest import run_docstring_examples as dtest\n",
    "dtest(SimpleSet3, globals(), verbose=True)"
   ]
  },
  {
   "cell_type": "code",
   "execution_count": 53,
   "metadata": {
    "collapsed": false
   },
   "outputs": [
    {
     "data": {
      "text/plain": [
       "__main__.SimpleSet3"
      ]
     },
     "execution_count": 53,
     "metadata": {},
     "output_type": "execute_result"
    }
   ],
   "source": [
    "SimpleSetInterface.register(SimpleSet3)"
   ]
  },
  {
   "cell_type": "code",
   "execution_count": null,
   "metadata": {
    "collapsed": true
   },
   "outputs": [],
   "source": []
  }
 ],
 "metadata": {
  "kernelspec": {
   "display_name": "Python 3",
   "language": "python",
   "name": "python3"
  },
  "language_info": {
   "codemirror_mode": {
    "name": "ipython",
    "version": 3
   },
   "file_extension": ".py",
   "mimetype": "text/x-python",
   "name": "python",
   "nbconvert_exporter": "python",
   "pygments_lexer": "ipython3",
   "version": "3.5.1"
  }
 },
 "nbformat": 4,
 "nbformat_minor": 0
}

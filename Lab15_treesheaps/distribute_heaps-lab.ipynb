{
 "cells": [
  {
   "cell_type": "markdown",
   "metadata": {
    "collapsed": true
   },
   "source": [
    "## Q1.  Max heap\n",
    "\n",
    "Implement a max heap instead of a min heap, by having the constructor explicitly pass the \"comparison\" operator in. Replace `min` and `del_min` by `dominant` and `del_dominant` methods. Change the classmethods to also take in the operator."
   ]
  },
  {
   "cell_type": "code",
   "execution_count": 294,
   "metadata": {
    "collapsed": true
   },
   "outputs": [],
   "source": [
    "#your code here\n",
    "\n",
    "class BinaryHeap:\n",
    "    def __init__(self, cmp):\n",
    "        # TODO why do we keep a None in front? \n",
    "        self.storage=[None]\n",
    "        self.upto=0\n",
    "        self.cmp = cmp\n",
    "\n",
    "    @classmethod\n",
    "    def heapify_slow(cls, it, cmp):\n",
    "        inst = cls(cmp)\n",
    "        for i in it:\n",
    "            inst.insert(i)\n",
    "        return inst\n",
    "\n",
    "    # TODO Understand this\n",
    "    @classmethod\n",
    "    def heapify(cls, it, cmp):\n",
    "        inst = cls(cmp)\n",
    "        inst.storage = inst.storage + list(it)\n",
    "        fromhalfway = (len(inst.storage) - 1) // 2\n",
    "        inst.upto = len(inst.storage) - 1\n",
    "        counter = 0\n",
    "        while (fromhalfway > 0):\n",
    "            # dotify(inst.storage, \"onheapifyimg\"+str(counter).zfill(2))\n",
    "            counter += 1\n",
    "            inst.sift_down(fromhalfway)\n",
    "            fromhalfway -= 1\n",
    "        # dotify(inst.storage, \"onheapifyimg\"+str(counter).zfill(2))\n",
    "        return inst\n",
    "    \n",
    "    def insert(self, value):\n",
    "        self.storage.append(value)\n",
    "        self.upto += 1\n",
    "        self.sift_up(self.upto)\n",
    "        \n",
    "    # This is a recursive call, implicitly looping\n",
    "    def sift_up(self, i):\n",
    "        parent = i // 2\n",
    "        if (parent > 0) and self.cmp(self.storage[i], self.storage[parent]):\n",
    "            self.storage[i], self.storage[parent] = self.storage[parent], self.storage[i]\n",
    "            self.sift_up(parent)\n",
    "     \n",
    "    # change to dom_child\n",
    "    def _dom_child(self, i):\n",
    "        if 2*i + 1 > self.upto:\n",
    "            return 2*i\n",
    "        else:\n",
    "            l = (self.storage[2*i], self.storage[2*i+1])\n",
    "            if self.cmp == lt: \n",
    "                return 2*i + l.index(min(l))\n",
    "            else: \n",
    "                return 2*i + l.index(max(l))\n",
    "            \n",
    "    # This is a recursive call, implicitly looping\n",
    "    def sift_down(self, i):\n",
    "        # dotify(self.storage, \"delimg\"+str(i).zfill(2))\n",
    "        if 2*i <= self.upto:\n",
    "            # change to dom_child\n",
    "            child = self._dom_child(i)\n",
    "            if self.cmp(self.storage[child], self.storage[i]):\n",
    "                self.storage[child], self.storage[i] = self.storage[i], self.storage[child]\n",
    "                self.sift_down(child)\n",
    "        \n",
    "    # change to dominant\n",
    "    def dominant(self):\n",
    "        return self.storage[1]\n",
    "    \n",
    "    # change to del_dominant\n",
    "    def del_dominant(self):\n",
    "        domval = self.storage[1]\n",
    "        self.storage[1], self.storage[self.upto] = self.storage[self.upto], self.storage[1]\n",
    "        self.storage.pop()\n",
    "        self.upto -= 1\n",
    "        self.sift_down(1)\n",
    "        return domval"
   ]
  },
  {
   "cell_type": "markdown",
   "metadata": {},
   "source": [
    "Lets use your code to find the minimum as well as the maximum of the old array. Run the code in the following cells and make sure you did it right..."
   ]
  },
  {
   "cell_type": "code",
   "execution_count": 295,
   "metadata": {
    "collapsed": true
   },
   "outputs": [],
   "source": [
    "data = [1,8,5,9,23,2,45,6,7,99,-5]"
   ]
  },
  {
   "cell_type": "code",
   "execution_count": 296,
   "metadata": {
    "collapsed": true
   },
   "outputs": [],
   "source": [
    "from operator import gt, lt"
   ]
  },
  {
   "cell_type": "code",
   "execution_count": 297,
   "metadata": {
    "collapsed": false
   },
   "outputs": [
    {
     "name": "stdout",
     "output_type": "stream",
     "text": [
      "[None, -5, 1, 2, 6, 8, 5, 45, 9, 7, 99, 23]\n"
     ]
    },
    {
     "data": {
      "text/plain": [
       "-5"
      ]
     },
     "execution_count": 297,
     "metadata": {},
     "output_type": "execute_result"
    }
   ],
   "source": [
    "# do a min heap\n",
    "bh = BinaryHeap.heapify(data, lt)\n",
    "print(bh.storage)\n",
    "bh.dominant()"
   ]
  },
  {
   "cell_type": "code",
   "execution_count": 298,
   "metadata": {
    "collapsed": false
   },
   "outputs": [
    {
     "name": "stdout",
     "output_type": "stream",
     "text": [
      "[None, 99, 23, 45, 9, 8, 2, 5, 6, 7, 1, -5]\n"
     ]
    },
    {
     "data": {
      "text/plain": [
       "99"
      ]
     },
     "execution_count": 298,
     "metadata": {},
     "output_type": "execute_result"
    }
   ],
   "source": [
    "# do a max heap\n",
    "\n",
    "bh = BinaryHeap.heapify(data, gt)\n",
    "print(bh.storage)\n",
    "bh.dominant()"
   ]
  },
  {
   "cell_type": "markdown",
   "metadata": {},
   "source": [
    "## Q2. Heapsort\n",
    "\n",
    "Heapsort is an algorithm that takes the idea of the selection sort algorithm and replces the inner loop by the use of a max-heap."
   ]
  },
  {
   "cell_type": "code",
   "execution_count": 299,
   "metadata": {
    "collapsed": true
   },
   "outputs": [],
   "source": [
    "def selection_sort(A):\n",
    "    for i in range(len(A)):\n",
    "        print(\"<<<\",A)\n",
    "        min_index = i\n",
    "        for j in range(i+1, len(A)):\n",
    "            if A[j] < A[min_index]:\n",
    "                min_index = j\n",
    "        A[i], A[min_index] = A[min_index], A[i]\n",
    "        print(\">>>\",A)"
   ]
  },
  {
   "cell_type": "code",
   "execution_count": 300,
   "metadata": {
    "collapsed": false
   },
   "outputs": [
    {
     "name": "stdout",
     "output_type": "stream",
     "text": [
      "<<< [1, 8, 5, 9, 23, 2, 45, 6, 7, 99, -5]\n",
      ">>> [-5, 8, 5, 9, 23, 2, 45, 6, 7, 99, 1]\n",
      "<<< [-5, 8, 5, 9, 23, 2, 45, 6, 7, 99, 1]\n",
      ">>> [-5, 1, 5, 9, 23, 2, 45, 6, 7, 99, 8]\n",
      "<<< [-5, 1, 5, 9, 23, 2, 45, 6, 7, 99, 8]\n",
      ">>> [-5, 1, 2, 9, 23, 5, 45, 6, 7, 99, 8]\n",
      "<<< [-5, 1, 2, 9, 23, 5, 45, 6, 7, 99, 8]\n",
      ">>> [-5, 1, 2, 5, 23, 9, 45, 6, 7, 99, 8]\n",
      "<<< [-5, 1, 2, 5, 23, 9, 45, 6, 7, 99, 8]\n",
      ">>> [-5, 1, 2, 5, 6, 9, 45, 23, 7, 99, 8]\n",
      "<<< [-5, 1, 2, 5, 6, 9, 45, 23, 7, 99, 8]\n",
      ">>> [-5, 1, 2, 5, 6, 7, 45, 23, 9, 99, 8]\n",
      "<<< [-5, 1, 2, 5, 6, 7, 45, 23, 9, 99, 8]\n",
      ">>> [-5, 1, 2, 5, 6, 7, 8, 23, 9, 99, 45]\n",
      "<<< [-5, 1, 2, 5, 6, 7, 8, 23, 9, 99, 45]\n",
      ">>> [-5, 1, 2, 5, 6, 7, 8, 9, 23, 99, 45]\n",
      "<<< [-5, 1, 2, 5, 6, 7, 8, 9, 23, 99, 45]\n",
      ">>> [-5, 1, 2, 5, 6, 7, 8, 9, 23, 99, 45]\n",
      "<<< [-5, 1, 2, 5, 6, 7, 8, 9, 23, 99, 45]\n",
      ">>> [-5, 1, 2, 5, 6, 7, 8, 9, 23, 45, 99]\n",
      "<<< [-5, 1, 2, 5, 6, 7, 8, 9, 23, 45, 99]\n",
      ">>> [-5, 1, 2, 5, 6, 7, 8, 9, 23, 45, 99]\n"
     ]
    }
   ],
   "source": [
    "selection_sort(data)"
   ]
  },
  {
   "cell_type": "markdown",
   "metadata": {},
   "source": [
    "The basic idea is this. First heapify the entire array. The max should then be the 1st element (save our placeholder None) of the heap's storage. Swap this max with the last element to store the maximum at the end. Now you've put in some new wierd value at the top of the heap and have lost the heap property. You have an additional element at the end.\n",
    "\n",
    "In-place in the array, without making any additional allocations, consider all but the last element to be the new \"heap\". What method in the heap class must we use to restore the heap property?\n",
    "\n",
    "Use this method to sort the array. Print the before and after for each iteration of the outer loop as above. What is the $O(n)$ for this method?"
   ]
  },
  {
   "cell_type": "code",
   "execution_count": 301,
   "metadata": {
    "collapsed": false
   },
   "outputs": [],
   "source": [
    "#your code here\n",
    "\n",
    "# do a max heap\n",
    "def heap_sort(data): \n",
    "    bh = BinaryHeap.heapify(data, gt)\n",
    "#     length = len(bh.storage)\n",
    "    # reversed(range(1, len(bh.storage)))\n",
    "#     range(length-1, 0, -1)\n",
    "    for i in reversed(range(1, len(bh.storage))):    \n",
    "        print(i)\n",
    "        print('FIRST <<<', bh.storage)    \n",
    "\n",
    "        bh.storage[1], bh.storage[i] = bh.storage[i], bh.storage[1]\n",
    "\n",
    "        print('SWAP >>>', bh.storage)\n",
    "        bh.upto -= 1\n",
    "        bh.sift_down(1)\n",
    "\n",
    "        print('SIFT >>>', bh.storage)    \n",
    "    \n",
    "    print(bh.storage)"
   ]
  },
  {
   "cell_type": "code",
   "execution_count": 302,
   "metadata": {
    "collapsed": false
   },
   "outputs": [
    {
     "data": {
      "text/plain": [
       "[11, 10, 9, 8, 7, 6, 5, 4, 3, 2, 1]"
      ]
     },
     "execution_count": 302,
     "metadata": {},
     "output_type": "execute_result"
    }
   ],
   "source": [
    "list(range(len(bh.storage)-1, 0, -1))"
   ]
  },
  {
   "cell_type": "code",
   "execution_count": 303,
   "metadata": {
    "collapsed": false
   },
   "outputs": [
    {
     "data": {
      "text/plain": [
       "[11, 10, 9, 8, 7, 6, 5, 4, 3, 2, 1]"
      ]
     },
     "execution_count": 303,
     "metadata": {},
     "output_type": "execute_result"
    }
   ],
   "source": [
    "list(reversed(range(1, len(bh.storage))))"
   ]
  },
  {
   "cell_type": "code",
   "execution_count": 304,
   "metadata": {
    "collapsed": false
   },
   "outputs": [
    {
     "name": "stdout",
     "output_type": "stream",
     "text": [
      "11\n",
      "FIRST <<< [None, 99, 45, 8, 23, 6, 7, 2, 9, 5, 1, -5]\n",
      "SWAP >>> [None, -5, 45, 8, 23, 6, 7, 2, 9, 5, 1, 99]\n",
      "SIFT >>> [None, 45, 23, 8, 9, 6, 7, 2, -5, 5, 1, 99]\n",
      "10\n",
      "FIRST <<< [None, 45, 23, 8, 9, 6, 7, 2, -5, 5, 1, 99]\n",
      "SWAP >>> [None, 1, 23, 8, 9, 6, 7, 2, -5, 5, 45, 99]\n",
      "SIFT >>> [None, 23, 9, 8, 5, 6, 7, 2, -5, 1, 45, 99]\n",
      "9\n",
      "FIRST <<< [None, 23, 9, 8, 5, 6, 7, 2, -5, 1, 45, 99]\n",
      "SWAP >>> [None, 1, 9, 8, 5, 6, 7, 2, -5, 23, 45, 99]\n",
      "SIFT >>> [None, 9, 6, 8, 5, 1, 7, 2, -5, 23, 45, 99]\n",
      "8\n",
      "FIRST <<< [None, 9, 6, 8, 5, 1, 7, 2, -5, 23, 45, 99]\n",
      "SWAP >>> [None, -5, 6, 8, 5, 1, 7, 2, 9, 23, 45, 99]\n",
      "SIFT >>> [None, 8, 6, 7, 5, 1, -5, 2, 9, 23, 45, 99]\n",
      "7\n",
      "FIRST <<< [None, 8, 6, 7, 5, 1, -5, 2, 9, 23, 45, 99]\n",
      "SWAP >>> [None, 2, 6, 7, 5, 1, -5, 8, 9, 23, 45, 99]\n",
      "SIFT >>> [None, 7, 6, 2, 5, 1, -5, 8, 9, 23, 45, 99]\n",
      "6\n",
      "FIRST <<< [None, 7, 6, 2, 5, 1, -5, 8, 9, 23, 45, 99]\n",
      "SWAP >>> [None, -5, 6, 2, 5, 1, 7, 8, 9, 23, 45, 99]\n",
      "SIFT >>> [None, 6, 5, 2, -5, 1, 7, 8, 9, 23, 45, 99]\n",
      "5\n",
      "FIRST <<< [None, 6, 5, 2, -5, 1, 7, 8, 9, 23, 45, 99]\n",
      "SWAP >>> [None, 1, 5, 2, -5, 6, 7, 8, 9, 23, 45, 99]\n",
      "SIFT >>> [None, 5, 1, 2, -5, 6, 7, 8, 9, 23, 45, 99]\n",
      "4\n",
      "FIRST <<< [None, 5, 1, 2, -5, 6, 7, 8, 9, 23, 45, 99]\n",
      "SWAP >>> [None, -5, 1, 2, 5, 6, 7, 8, 9, 23, 45, 99]\n",
      "SIFT >>> [None, 2, 1, -5, 5, 6, 7, 8, 9, 23, 45, 99]\n",
      "3\n",
      "FIRST <<< [None, 2, 1, -5, 5, 6, 7, 8, 9, 23, 45, 99]\n",
      "SWAP >>> [None, -5, 1, 2, 5, 6, 7, 8, 9, 23, 45, 99]\n",
      "SIFT >>> [None, 1, -5, 2, 5, 6, 7, 8, 9, 23, 45, 99]\n",
      "2\n",
      "FIRST <<< [None, 1, -5, 2, 5, 6, 7, 8, 9, 23, 45, 99]\n",
      "SWAP >>> [None, -5, 1, 2, 5, 6, 7, 8, 9, 23, 45, 99]\n",
      "SIFT >>> [None, -5, 1, 2, 5, 6, 7, 8, 9, 23, 45, 99]\n",
      "1\n",
      "FIRST <<< [None, -5, 1, 2, 5, 6, 7, 8, 9, 23, 45, 99]\n",
      "SWAP >>> [None, -5, 1, 2, 5, 6, 7, 8, 9, 23, 45, 99]\n",
      "SIFT >>> [None, -5, 1, 2, 5, 6, 7, 8, 9, 23, 45, 99]\n",
      "[None, -5, 1, 2, 5, 6, 7, 8, 9, 23, 45, 99]\n"
     ]
    }
   ],
   "source": [
    "heap_sort(data)\n",
    "# [None, 99, 23, 45, 9, 8, 2, 5, 6, 7, 1, -5]"
   ]
  },
  {
   "cell_type": "markdown",
   "metadata": {},
   "source": [
    "*your answer here*\n",
    "\n",
    "This is an $O(n \\log n)$ algorithm because each of the n elements takes $\\log n$ time to reheapify. \n"
   ]
  },
  {
   "cell_type": "markdown",
   "metadata": {},
   "source": [
    "## Q3. Median maintenance\n",
    "\n",
    "Median maintenance is a very cool algorithm to find an online median. \n",
    "\n",
    "We create two arrays to test our implementation, using `np.median` to compute our answer..."
   ]
  },
  {
   "cell_type": "code",
   "execution_count": 363,
   "metadata": {
    "collapsed": false
   },
   "outputs": [],
   "source": [
    "import random\n",
    "import numpy as np"
   ]
  },
  {
   "cell_type": "code",
   "execution_count": 364,
   "metadata": {
    "collapsed": false
   },
   "outputs": [
    {
     "name": "stdout",
     "output_type": "stream",
     "text": [
      "150 460.0\n",
      "151 459.0\n"
     ]
    }
   ],
   "source": [
    "l = [random.randint(1,1000) for _ in range(150)]\n",
    "print(len(l), np.median(l))\n",
    "l2 = l + [random.randint(1,1000)]\n",
    "print(len(l2), np.median(l2))"
   ]
  },
  {
   "cell_type": "code",
   "execution_count": 365,
   "metadata": {
    "collapsed": false
   },
   "outputs": [
    {
     "data": {
      "text/plain": [
       "[86,\n",
       " 656,\n",
       " 794,\n",
       " 83,\n",
       " 27,\n",
       " 611,\n",
       " 241,\n",
       " 537,\n",
       " 96,\n",
       " 49,\n",
       " 947,\n",
       " 522,\n",
       " 407,\n",
       " 138,\n",
       " 412,\n",
       " 919,\n",
       " 812,\n",
       " 272,\n",
       " 734,\n",
       " 178,\n",
       " 855,\n",
       " 177,\n",
       " 459,\n",
       " 833,\n",
       " 688,\n",
       " 450,\n",
       " 775,\n",
       " 134,\n",
       " 654,\n",
       " 442,\n",
       " 558,\n",
       " 122,\n",
       " 44,\n",
       " 526,\n",
       " 424,\n",
       " 6,\n",
       " 252,\n",
       " 71,\n",
       " 124,\n",
       " 274,\n",
       " 279,\n",
       " 810,\n",
       " 914,\n",
       " 907,\n",
       " 345,\n",
       " 275,\n",
       " 667,\n",
       " 202,\n",
       " 867,\n",
       " 35,\n",
       " 964,\n",
       " 658,\n",
       " 972,\n",
       " 461,\n",
       " 265,\n",
       " 724,\n",
       " 739,\n",
       " 225,\n",
       " 723,\n",
       " 435,\n",
       " 588,\n",
       " 206,\n",
       " 234,\n",
       " 189,\n",
       " 28,\n",
       " 883,\n",
       " 62,\n",
       " 696,\n",
       " 232,\n",
       " 924,\n",
       " 707,\n",
       " 95,\n",
       " 719,\n",
       " 93,\n",
       " 187,\n",
       " 296,\n",
       " 563,\n",
       " 657,\n",
       " 720,\n",
       " 471,\n",
       " 95,\n",
       " 524,\n",
       " 689,\n",
       " 116,\n",
       " 396,\n",
       " 469,\n",
       " 353,\n",
       " 945,\n",
       " 268,\n",
       " 990,\n",
       " 478,\n",
       " 53,\n",
       " 630,\n",
       " 525,\n",
       " 213,\n",
       " 118,\n",
       " 742,\n",
       " 350,\n",
       " 931,\n",
       " 995,\n",
       " 889,\n",
       " 304,\n",
       " 376,\n",
       " 518,\n",
       " 506,\n",
       " 238,\n",
       " 72,\n",
       " 943,\n",
       " 253,\n",
       " 953,\n",
       " 794,\n",
       " 666,\n",
       " 147,\n",
       " 485,\n",
       " 637,\n",
       " 189,\n",
       " 512,\n",
       " 235,\n",
       " 637,\n",
       " 994,\n",
       " 632,\n",
       " 1000,\n",
       " 893,\n",
       " 652,\n",
       " 450,\n",
       " 506,\n",
       " 927,\n",
       " 49,\n",
       " 109,\n",
       " 906,\n",
       " 26,\n",
       " 202,\n",
       " 704,\n",
       " 428,\n",
       " 334,\n",
       " 878,\n",
       " 201,\n",
       " 772,\n",
       " 960,\n",
       " 753,\n",
       " 414,\n",
       " 856,\n",
       " 317,\n",
       " 861,\n",
       " 361,\n",
       " 408,\n",
       " 168,\n",
       " 129,\n",
       " 113,\n",
       " 217]"
      ]
     },
     "execution_count": 365,
     "metadata": {},
     "output_type": "execute_result"
    }
   ],
   "source": [
    "l"
   ]
  },
  {
   "cell_type": "markdown",
   "metadata": {},
   "source": [
    "You will implement `def online_median(iterator)` which is a generaor yielding successive values of your online median. \n",
    "\n",
    "The algorithm is as follows:\n",
    "\n",
    "We'll use 2 heaps, a max heap for the lower half of the data, and a min-heap for the upper half. We take the first 2values in our data and assign the smaller value to the max heap, while the larger value goes to the min-heap. Then, as we \"insert\" subsequent values in one of the two heaps, the following holds: if we keep the number of elements in both heaps equal (for the even case) or at-most differing by one, the median is respectively the average of the two dominants or the dominant in the heap with one xtra item.\n",
    "\n",
    "What then is our strategy for this balanced insertion? Quite simple really: if a new value is not as dominant as the dominant value, add it to that heap. If it is more dominant, add it to the other. If two items in a row get added to the same heap, the heaps will be out of balance by more than one. In this case, take the dominant element from the larger heap and simply add it to the smaller one."
   ]
  },
  {
   "cell_type": "code",
   "execution_count": 366,
   "metadata": {
    "collapsed": false
   },
   "outputs": [],
   "source": [
    "#your code here\n",
    "\n",
    "\"\"\"\n",
    "Split up and create a min and max heap \n",
    "Put higher number in min heap \n",
    "put smaller number in max heap\n",
    "\"\"\"\n",
    "import numpy as np\n",
    "\n",
    "def online_median(iterator): \n",
    "    maxheap = BinaryHeap(gt)\n",
    "    minheap = BinaryHeap(lt)\n",
    "    \n",
    "    counter = 0\n",
    "    \n",
    "    for item in iterator: \n",
    "        counter += 1\n",
    "        \n",
    "        # handle first number\n",
    "        if counter == 1: \n",
    "            prev = item\n",
    "            yield item\n",
    "        \n",
    "        # handle first two numbers\n",
    "        elif counter == 2: \n",
    "            if prev > item: \n",
    "                maxheap.insert(item)\n",
    "                minheap.insert(prev)\n",
    "            else: \n",
    "                maxheap.insert(prev)\n",
    "                minheap.insert(item)\n",
    "            \n",
    "#             print(maxheap.storage)\n",
    "#             print(minheap.storage)\n",
    "            yield np.mean([item, prev])\n",
    "        \n",
    "        else:\n",
    "            # insert new items\n",
    "            if item < maxheap.dominant():\n",
    "                maxheap.insert(item)\n",
    "            else: \n",
    "                minheap.insert(item)\n",
    "\n",
    "            # rebalance if necessary \n",
    "            if np.absolute(len(maxheap.storage) - len(minheap.storage)) > 1: \n",
    "                if len(maxheap.storage) > len(minheap.storage):\n",
    "                    dom = maxheap.dominant()\n",
    "                    maxheap.del_dominant()\n",
    "                    minheap.insert(dom)\n",
    "                elif len(maxheap.storage) < len(minheap.storage):  \n",
    "                    dom = minheap.dominant()\n",
    "                    minheap.del_dominant()\n",
    "                    maxheap.insert(dom)\n",
    "\n",
    "            # yield latest median\n",
    "            if len(maxheap.storage) == len(minheap.storage):\n",
    "                yield np.mean([maxheap.dominant(), minheap.dominant()])\n",
    "            elif len(maxheap.storage) < len(minheap.storage):\n",
    "                yield minheap.dominant()\n",
    "            else: \n",
    "                yield maxheap.dominant()"
   ]
  },
  {
   "cell_type": "code",
   "execution_count": 375,
   "metadata": {
    "collapsed": false
   },
   "outputs": [
    {
     "data": {
      "text/plain": [
       "[1, 2.0, 2, 2.5, 3, 4.5, 6, 13.0, 20]"
      ]
     },
     "execution_count": 375,
     "metadata": {},
     "output_type": "execute_result"
    }
   ],
   "source": [
    "list(online_median([1, 3, 2, 6, 20, 24, 30, 30, 30]))"
   ]
  },
  {
   "cell_type": "markdown",
   "metadata": {},
   "source": [
    "Do your answers match?"
   ]
  },
  {
   "cell_type": "code",
   "execution_count": 368,
   "metadata": {
    "collapsed": false
   },
   "outputs": [
    {
     "name": "stdout",
     "output_type": "stream",
     "text": [
      "460.0\n"
     ]
    },
    {
     "data": {
      "text/plain": [
       "[<matplotlib.lines.Line2D at 0x1100d88d0>]"
      ]
     },
     "execution_count": 368,
     "metadata": {},
     "output_type": "execute_result"
    },
    {
     "data": {
      "image/png": "[encoded data removed]",
      "text/plain": [
       "<matplotlib.figure.Figure at 0x10f881278>"
      ]
     },
     "metadata": {},
     "output_type": "display_data"
    }
   ],
   "source": [
    "%matplotlib inline\n",
    "import matplotlib.pyplot as plt\n",
    "medians = list(online_median(iter(l)))\n",
    "print(medians[-1])\n",
    "plt.plot(medians)"
   ]
  },
  {
   "cell_type": "code",
   "execution_count": 369,
   "metadata": {
    "collapsed": false
   },
   "outputs": [
    {
     "data": {
      "text/plain": [
       "459"
      ]
     },
     "execution_count": 369,
     "metadata": {},
     "output_type": "execute_result"
    }
   ],
   "source": [
    "list(online_median(iter(l2)))[-1]"
   ]
  },
  {
   "cell_type": "markdown",
   "metadata": {},
   "source": [
    "What is the $O(n)$ behavior of this median maintenance algorithm?"
   ]
  },
  {
   "cell_type": "markdown",
   "metadata": {},
   "source": [
    "*your answer here*\n",
    "\n",
    "Overall, the behavior is $O(n \\log n)$. It takes $O(\\log n)$ time to insert each element into the heap and in the cases where it is necessary to rebalance, it takes $O(\\log n)$ to delete & re-heapify and $O(\\log n)$ to insert into the other heap. Therefore, the worst case is a constant factor of $O(\\log n)$ per element, making the overall complexity $O(n \\log n)$.\n"
   ]
  },
  {
   "cell_type": "markdown",
   "metadata": {},
   "source": [
    "Lastly, lets repeat the analysis we did last time on the randomly generated data."
   ]
  },
  {
   "cell_type": "code",
   "execution_count": 370,
   "metadata": {
    "collapsed": true
   },
   "outputs": [],
   "source": [
    "from random import normalvariate, random\n",
    "from itertools import count\n",
    "def make_data(m, stop=None):\n",
    "    for _ in count():\n",
    "        if stop and _ > stop:\n",
    "            break\n",
    "        yield 1.0e09 + normalvariate(0, m*random() )"
   ]
  },
  {
   "cell_type": "code",
   "execution_count": 371,
   "metadata": {
    "collapsed": false
   },
   "outputs": [
    {
     "name": "stdout",
     "output_type": "stream",
     "text": [
      "<class 'generator'>\n"
     ]
    },
    {
     "data": {
      "text/plain": [
       "[1000000000.0348933,\n",
       " 1000000000.0263566,\n",
       " 1000000000.0229273,\n",
       " 1000000000.0194979,\n",
       " 1000000000.0229273,\n",
       " 1000000000.0263566,\n",
       " 1000000000.0229273,\n",
       " 1000000000.0263566,\n",
       " 1000000000.0271921,\n",
       " 1000000000.0280277]"
      ]
     },
     "execution_count": 371,
     "metadata": {},
     "output_type": "execute_result"
    }
   ],
   "source": [
    "g = online_median(make_data(5, 100))\n",
    "print(type(g))\n",
    "out = list(g)\n",
    "out[-10:]"
   ]
  },
  {
   "cell_type": "code",
   "execution_count": 372,
   "metadata": {
    "collapsed": false
   },
   "outputs": [
    {
     "data": {
      "text/plain": [
       "[<matplotlib.lines.Line2D at 0x110251f28>]"
      ]
     },
     "execution_count": 372,
     "metadata": {},
     "output_type": "execute_result"
    },
    {
     "data": {
      "image/png": "[encoded data removed]",
      "text/plain": [
       "<matplotlib.figure.Figure at 0x110163630>"
      ]
     },
     "metadata": {},
     "output_type": "display_data"
    }
   ],
   "source": [
    "plt.plot(out)"
   ]
  },
  {
   "cell_type": "code",
   "execution_count": null,
   "metadata": {
    "collapsed": true
   },
   "outputs": [],
   "source": []
  }
 ],
 "metadata": {
  "kernelspec": {
   "display_name": "Python 3",
   "language": "python",
   "name": "python3"
  },
  "language_info": {
   "codemirror_mode": {
    "name": "ipython",
    "version": 3
   },
   "file_extension": ".py",
   "mimetype": "text/x-python",
   "name": "python",
   "nbconvert_exporter": "python",
   "pygments_lexer": "ipython3",
   "version": "3.5.1"
  }
 },
 "nbformat": 4,
 "nbformat_minor": 0
}

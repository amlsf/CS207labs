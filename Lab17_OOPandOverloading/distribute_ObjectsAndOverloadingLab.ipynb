{
 "cells": [
  {
   "cell_type": "markdown",
   "metadata": {},
   "source": [
    "### Q1. Continuing the Vector\n",
    "\n",
    "Our Vector implementation so far looks like this"
   ]
  },
  {
   "cell_type": "code",
   "execution_count": 1,
   "metadata": {
    "collapsed": true
   },
   "outputs": [],
   "source": [
    "#example from Fluent\n",
    "from array import array \n",
    "import reprlib\n",
    "import math\n",
    "import numbers\n",
    "import functools\n",
    "import operator\n",
    "import itertools\n",
    "\n",
    "class Vector:\n",
    "    typecode = 'd'\n",
    "    \n",
    "    def __init__(self, components):\n",
    "        self._components = array(self.typecode, components)\n",
    "        \n",
    "    def __iter__(self):\n",
    "        return iter(self._components)\n",
    "    \n",
    "    def __repr__(self):\n",
    "        components = reprlib.repr(self._components) \n",
    "        components = components[components.find('['):-1] \n",
    "        return 'Vector({})'.format(components)\n",
    "    \n",
    "    def __eq__(self, other):\n",
    "        if isinstance(other, Vector):\n",
    "            return (len(self) == len(other) and\n",
    "                all(a == b for a, b in zip(self, other)))\n",
    "        else:\n",
    "            return NotImplemented\n",
    "    \n",
    "    def __abs__(self):\n",
    "        return math.sqrt(sum(x * x for x in self))\n",
    "    \n",
    "    def __bool__(self): \n",
    "        return bool(abs(self))\n",
    "    \n",
    "    def __len__(self):\n",
    "        return len(self._components)\n",
    "    \n",
    "    def __getitem__(self, index): \n",
    "        cls = type(self)\n",
    "        \n",
    "        if isinstance(index, slice):\n",
    "            return cls(self._components[index])\n",
    "        elif isinstance(index, numbers.Integral): \n",
    "            return self._components[index]\n",
    "        else:\n",
    "            msg = '{.__name__} indices must be integers' \n",
    "            raise TypeError(msg.format(cls))\n",
    "            \n",
    "    def __neg__(self):\n",
    "        return Vector(-x for x in self) \n",
    "    \n",
    "    def __pos__(self):\n",
    "        return Vector(self)\n",
    "    \n",
    "    def _check_length_helper(self , rhs):\n",
    "        if not len(self)==len(rhs):\n",
    "            raise ValueError(str(self)+' and '+str(rhs)+' must have the same length')\n",
    "    \n",
    "    def __add__(self, rhs):\n",
    "        try:\n",
    "            if isinstance(rhs, numbers.Real):\n",
    "                return Vector(a + rhs for a in self) \n",
    "            else: #\n",
    "                self._check_length_helper(rhs)\n",
    "                pairs = zip(self, rhs)\n",
    "                return Vector(a + b for a, b in pairs)\n",
    "        except TypeError:\n",
    "            raise NotImplemented\n",
    "    \n",
    "    def __radd__(self, other): # other + self delegates to __add__\n",
    "        return self + other"
   ]
  },
  {
   "cell_type": "markdown",
   "metadata": {},
   "source": [
    "First, implement all the ad-hoc tests so far as doctests. Then implement multiplication and subtraction for this class. Notice that this is currently a non-mutable vector."
   ]
  },
  {
   "cell_type": "code",
   "execution_count": 69,
   "metadata": {
    "collapsed": true
   },
   "outputs": [],
   "source": [
    "#your code here\n",
    "# https://docs.python.org/3/reference/datamodel.html#object.__sub__\n",
    "class Vector:\n",
    "    \"\"\"\n",
    "    >>> A=Vector([1,2,3,1])\n",
    "    >>> B=Vector([1,2,3,1])\n",
    "    >>> A==B\n",
    "    True\n",
    "    >>> abs(A)\n",
    "    3.872983346207417\n",
    "    >>> bool(A)\n",
    "    True\n",
    "    >>> C = Vector([])\n",
    "    >>> bool(C)\n",
    "    False\n",
    "    >>> len(A)\n",
    "    4\n",
    "    >>> A[3]\n",
    "    1.0\n",
    "    >>> -A\n",
    "    Vector([-1.0, -2.0, -3.0, -1.0])\n",
    "    >>> A + B\n",
    "    Vector([2.0, 4.0, 6.0, 2.0])\n",
    "    >>> 10 + B\n",
    "    Vector([11.0, 12.0, 13.0, 11.0])\n",
    "    >>> B + 10\n",
    "    Vector([11.0, 12.0, 13.0, 11.0])\n",
    "    >>> D = Vector([1,2])\n",
    "    >>> A + D\n",
    "    Traceback (most recent call last):\n",
    "        ...\n",
    "    ValueError: Vector([1.0, 2.0, 3.0, 1.0]) and Vector([1.0, 2.0]) must have the same length\n",
    "    >>> A - 3\n",
    "    Vector([-2.0, -1.0, 0.0, -2.0])\n",
    "    >>> 3 - A\n",
    "    Vector([2.0, 1.0, 0.0, 2.0])\n",
    "    >>> A - B\n",
    "    Vector([0.0, 0.0, 0.0, 0.0])\n",
    "    >>> A*B\n",
    "    Vector([1.0, 4.0, 9.0, 1.0])\n",
    "    >>> A*3\n",
    "    Vector([3.0, 6.0, 9.0, 3.0])\n",
    "    >>> 4*B\n",
    "    Vector([4.0, 8.0, 12.0, 4.0])\n",
    "    \"\"\"\n",
    "    typecode = 'd'\n",
    "    \n",
    "    def __init__(self, components):\n",
    "        self._components = array(self.typecode, components)\n",
    "        \n",
    "    def __iter__(self):\n",
    "        return iter(self._components)\n",
    "    \n",
    "    def __repr__(self):\n",
    "        components = reprlib.repr(self._components) \n",
    "        components = components[components.find('['):-1] \n",
    "        return 'Vector({})'.format(components)\n",
    "    \n",
    "    def __eq__(self, other):\n",
    "        if isinstance(other, Vector):\n",
    "            return (len(self) == len(other) and\n",
    "                all(a == b for a, b in zip(self, other)))\n",
    "        else:\n",
    "            return NotImplemented\n",
    "    \n",
    "    def __abs__(self):\n",
    "        return math.sqrt(sum(x * x for x in self))\n",
    "    \n",
    "    def __bool__(self): \n",
    "        return bool(abs(self))\n",
    "    \n",
    "    def __len__(self):\n",
    "        return len(self._components)\n",
    "    \n",
    "    def __getitem__(self, index): \n",
    "        cls = type(self)\n",
    "        \n",
    "        if isinstance(index, slice):\n",
    "            return cls(self._components[index])\n",
    "        elif isinstance(index, numbers.Integral): \n",
    "            return self._components[index]\n",
    "        else:\n",
    "            msg = '{.__name__} indices must be integers' \n",
    "            raise TypeError(msg.format(cls))\n",
    "            \n",
    "    def __neg__(self):\n",
    "        return Vector(-x for x in self) \n",
    "    \n",
    "    def __pos__(self):\n",
    "        return Vector(self)\n",
    "    \n",
    "    def _check_length_helper(self , rhs):\n",
    "        if not len(self)==len(rhs):\n",
    "            raise ValueError(str(self)+' and '+str(rhs)+' must have the same length')\n",
    "    \n",
    "    def __add__(self, rhs):\n",
    "        try:\n",
    "            # for scalar\n",
    "            if isinstance(rhs, numbers.Real):\n",
    "                return Vector(a + rhs for a in self) \n",
    "            # for vector\n",
    "            else: #\n",
    "                self._check_length_helper(rhs)\n",
    "                pairs = zip(self, rhs)\n",
    "                return Vector(a + b for a, b in pairs)\n",
    "        except TypeError:\n",
    "            raise NotImplemented\n",
    "    \n",
    "    # Python will look for __add__ on lefthand object, if none, then will look for radd on the right hand object\n",
    "    # this switches the order, takes self (Which in this case is on the rhs, and then adds it to toher)\n",
    "    def __radd__(self, other): # other + self delegates to __add__\n",
    "        return self + other\n",
    "\n",
    "    def __sub__(self, rhs): \n",
    "        \"\"\"\n",
    "        very similar to addition\n",
    "        \"\"\"\n",
    "        try:\n",
    "            # for scalar\n",
    "            if isinstance(rhs, numbers.Real):\n",
    "                # uses __radd__ already implemented for self\n",
    "                return -rhs + self\n",
    "            # for vector\n",
    "            else: #\n",
    "                self._check_length_helper(rhs)\n",
    "                pairs = zip(self, rhs)\n",
    "                return Vector(a - b for a, b in pairs)\n",
    "        except TypeError:\n",
    "            raise NotImplemented\n",
    "\n",
    "    def __rsub__(self, other): # other + self delegates to __add__\n",
    "        # convert other to negative then add\n",
    "        # can do this because __neg__ already implemented\n",
    "        return -self + other\n",
    "            \n",
    "    def __mul__(self, rhs):\n",
    "        \"\"\"\n",
    "        vectorized multiplication like numpy, more complicated\n",
    "        \"\"\"\n",
    "        try: \n",
    "            if isinstance(rhs, numbers.Real):\n",
    "                # uses __radd__ already implemented for self\n",
    "                return Vector(a*rhs for a in self)\n",
    "            else: \n",
    "                self._check_length_helper(rhs)\n",
    "                pairs = zip(self, rhs)\n",
    "                return Vector(a*b for a, b in pairs)\n",
    "        except TypeError: \n",
    "            raise NotImplemented\n",
    "\n",
    "    def __rmul__(self, lhs):\n",
    "        \"\"\"\n",
    "        vectorized multiplication like numpy, more complicated\n",
    "        \"\"\"\n",
    "        return self*lhs\n",
    "            "
   ]
  },
  {
   "cell_type": "code",
   "execution_count": 70,
   "metadata": {
    "collapsed": false
   },
   "outputs": [
    {
     "name": "stdout",
     "output_type": "stream",
     "text": [
      "Finding tests in NoName\n",
      "Trying:\n",
      "    A=Vector([1,2,3,1])\n",
      "Expecting nothing\n",
      "ok\n",
      "Trying:\n",
      "    B=Vector([1,2,3,1])\n",
      "Expecting nothing\n",
      "ok\n",
      "Trying:\n",
      "    A==B\n",
      "Expecting:\n",
      "    True\n",
      "ok\n",
      "Trying:\n",
      "    abs(A)\n",
      "Expecting:\n",
      "    3.872983346207417\n",
      "ok\n",
      "Trying:\n",
      "    bool(A)\n",
      "Expecting:\n",
      "    True\n",
      "ok\n",
      "Trying:\n",
      "    C = Vector([])\n",
      "Expecting nothing\n",
      "ok\n",
      "Trying:\n",
      "    bool(C)\n",
      "Expecting:\n",
      "    False\n",
      "ok\n",
      "Trying:\n",
      "    len(A)\n",
      "Expecting:\n",
      "    4\n",
      "ok\n",
      "Trying:\n",
      "    A[3]\n",
      "Expecting:\n",
      "    1.0\n",
      "ok\n",
      "Trying:\n",
      "    -A\n",
      "Expecting:\n",
      "    Vector([-1.0, -2.0, -3.0, -1.0])\n",
      "ok\n",
      "Trying:\n",
      "    A + B\n",
      "Expecting:\n",
      "    Vector([2.0, 4.0, 6.0, 2.0])\n",
      "ok\n",
      "Trying:\n",
      "    10 + B\n",
      "Expecting:\n",
      "    Vector([11.0, 12.0, 13.0, 11.0])\n",
      "ok\n",
      "Trying:\n",
      "    B + 10\n",
      "Expecting:\n",
      "    Vector([11.0, 12.0, 13.0, 11.0])\n",
      "ok\n",
      "Trying:\n",
      "    D = Vector([1,2])\n",
      "Expecting nothing\n",
      "ok\n",
      "Trying:\n",
      "    A + D\n",
      "Expecting:\n",
      "    Traceback (most recent call last):\n",
      "        ...\n",
      "    ValueError: Vector([1.0, 2.0, 3.0, 1.0]) and Vector([1.0, 2.0]) must have the same length\n",
      "ok\n",
      "Trying:\n",
      "    A - 3\n",
      "Expecting:\n",
      "    Vector([-2.0, -1.0, 0.0, -2.0])\n",
      "ok\n",
      "Trying:\n",
      "    3 - A\n",
      "Expecting:\n",
      "    Vector([2.0, 1.0, 0.0, 2.0])\n",
      "ok\n",
      "Trying:\n",
      "    A - B\n",
      "Expecting:\n",
      "    Vector([0.0, 0.0, 0.0, 0.0])\n",
      "ok\n",
      "Trying:\n",
      "    A*B\n",
      "Expecting:\n",
      "    Vector([1.0, 4.0, 9.0, 1.0])\n",
      "ok\n",
      "Trying:\n",
      "    A*3\n",
      "Expecting:\n",
      "    Vector([3.0, 6.0, 9.0, 3.0])\n",
      "ok\n",
      "Trying:\n",
      "    4*B\n",
      "Expecting:\n",
      "    Vector([4.0, 8.0, 12.0, 4.0])\n",
      "ok\n"
     ]
    }
   ],
   "source": [
    "# my code here\n",
    "from doctest import run_docstring_examples as dtest\n",
    "dtest(Vector, globals(), verbose=True)"
   ]
  },
  {
   "cell_type": "code",
   "execution_count": 72,
   "metadata": {
    "collapsed": false
   },
   "outputs": [
    {
     "data": {
      "text/plain": [
       "(Vector([2.0, 3.0]),\n",
       " Vector([2.0, 4.0]),\n",
       " Vector([2.0, 3.0]),\n",
       " Vector([2.0, 4.0]),\n",
       " Vector([4.0, 6.0]),\n",
       " Vector([4.0, 6.0]))"
      ]
     },
     "execution_count": 72,
     "metadata": {},
     "output_type": "execute_result"
    }
   ],
   "source": [
    "v1 = Vector([1,2])\n",
    "v2=Vector([3,4])\n",
    "v3=Vector([1,2,3])\n",
    "v1+1,v1+[1,2], 1 + v1, [1,2] + v1, v1 + v2, v2 + v1"
   ]
  },
  {
   "cell_type": "code",
   "execution_count": 73,
   "metadata": {
    "collapsed": false
   },
   "outputs": [
    {
     "data": {
      "text/plain": [
       "(Vector([3.0, 8.0]),\n",
       " Vector([3.0, 8.0]),\n",
       " Vector([4.0, 8.0]),\n",
       " Vector([4.9, 9.8]))"
      ]
     },
     "execution_count": 73,
     "metadata": {},
     "output_type": "execute_result"
    }
   ],
   "source": [
    "v1 * v2, v2* v1, 4*v1, v1*4.9"
   ]
  },
  {
   "cell_type": "markdown",
   "metadata": {},
   "source": [
    "### Q2. Mixins for functionality\n",
    "\n",
    "Here is a set of methods that logs dictionary access"
   ]
  },
  {
   "cell_type": "code",
   "execution_count": 75,
   "metadata": {
    "collapsed": true
   },
   "outputs": [],
   "source": [
    "# this is multiple inheritance\n",
    "class LoggedMappingMixin: \n",
    "    '''\n",
    "    Add logging to get/set/delete operations for debugging. \n",
    "    '''\n",
    "    __slots__ = ()\n",
    "    def __getitem__(self, key): \n",
    "        print('Getting ' + str(key)) \n",
    "        return super().__getitem__(key)\n",
    "    def __setitem__(self, key, value): \n",
    "        print('Setting {} = {!r}'.format(key, value)) \n",
    "        return super().__setitem__(key, value)\n",
    "    def __delitem__(self, key): \n",
    "        print('Deleting ' + str(key)) \n",
    "        return super().__delitem__(key)"
   ]
  },
  {
   "cell_type": "markdown",
   "metadata": {},
   "source": [
    "Notice the use of `super()` here. `super()` is the same as `super(self.__class__, self)`. But we dont have a parent!\n",
    "\n",
    "What is going on? You tell me the answer to this when you inherit a `LoggedDict` with no implementation from both `LoggedMappingMixin` and `dict`. Which order must you inherit in? Play with the `mro` method and figure this out."
   ]
  },
  {
   "cell_type": "code",
   "execution_count": 76,
   "metadata": {
    "collapsed": false
   },
   "outputs": [],
   "source": [
    "# your code here\n",
    "\n",
    "# this is multiple inheritance\n",
    "# this is putting LoggedMappingMixin in between LoggedDict and dict in the method resolution order (mro)\n",
    "# doesn't affect LoggedMappingMixin\n",
    "# as if inherited first from LoggedMappingMixin and making LoggedMappingMixin inherit from dict\n",
    "# inheriting first from LoggedMappingMixin, and then dict\n",
    "class LoggedDict(LoggedMappingMixin, dict): \n",
    "    \"\"\"\n",
    "    \"\"\"\n",
    "    pass"
   ]
  },
  {
   "cell_type": "code",
   "execution_count": 77,
   "metadata": {
    "collapsed": false
   },
   "outputs": [
    {
     "data": {
      "text/plain": [
       "[__main__.LoggedDict, __main__.LoggedMappingMixin, dict, object]"
      ]
     },
     "execution_count": 77,
     "metadata": {},
     "output_type": "execute_result"
    }
   ],
   "source": [
    "#your code here\n",
    "# when method is called, it will look in order. First will look in LoggedDict, finds nothing. \n",
    "# Then looks in LoggedMappingMixin, which then calls super to dict\n",
    "LoggedDict.mro()"
   ]
  },
  {
   "cell_type": "markdown",
   "metadata": {},
   "source": [
    "*your answer here*\n",
    "\n",
    "This is multiple inheritance. This is putting LoggedMappingMixin in between LoggedDict and dict in the method resolution order (mro). By creating a LoggedDict class that first inherits from LoggedMappingMixin and then dict, when LoggedDict is called, it will look in the order output by the `mro` method. First it will look in LoggedDict, where it finds nothing, then it will look in LoggedMappingMixin, which then calls super onto the inserted parent, dict."
   ]
  },
  {
   "cell_type": "markdown",
   "metadata": {},
   "source": [
    "\n",
    "### Q3. The Pavlos Problem\n",
    "\n",
    "ABC's and doctests. The Pavlos problem.\n",
    "\n",
    "Introspection of a class hierarchy is helped by:\n",
    "`__subclasses__()` and `_abc_registry` which give us concrete subclasses and virtual subclasses respectively. We can use this to fully document an interface via an example."
   ]
  },
  {
   "cell_type": "code",
   "execution_count": 79,
   "metadata": {
    "collapsed": false
   },
   "outputs": [],
   "source": [
    "import abc\n",
    "\n",
    "# abc.ABC means you can register implementations. An abc.ABC is interface that you can then register implementations \n",
    "# of\n",
    "class StackInterface(abc.ABC):\n",
    "    \"\"\"\n",
    "    >>> a = Stack()\n",
    "    >>> a.push(1)\n",
    "    >>> a.push(2)\n",
    "    >>> a.peek()\n",
    "    2\n",
    "    >>> a.pop()\n",
    "    2\n",
    "    >>> a.pop()\n",
    "    1\n",
    "    >>> a.peek()\n",
    "    >>> a.pop()\n",
    "    \"\"\"\n",
    "    \n",
    "    @abc.abstractmethod\n",
    "    def push(self, value):\n",
    "        \"Push value onto the stack. Return None\"\n",
    "        \n",
    "    @abc.abstractmethod\n",
    "    def pop(self):\n",
    "        \"Pop value from Stack. Return None if nothingon stack\"\n",
    "        \n",
    "    @abc.abstractmethod\n",
    "    def peek(self):\n",
    "        \"Peeak at top of stack. Return None if empty\""
   ]
  },
  {
   "cell_type": "markdown",
   "metadata": {},
   "source": [
    "Implement `ListStack` using a python list"
   ]
  },
  {
   "cell_type": "code",
   "execution_count": 99,
   "metadata": {
    "collapsed": false
   },
   "outputs": [
    {
     "data": {
      "text/plain": [
       "__main__.ListStack"
      ]
     },
     "execution_count": 99,
     "metadata": {},
     "output_type": "execute_result"
    }
   ],
   "source": [
    "#your code here\n",
    "\n",
    "# write stack with python list is trivial\n",
    "# you can register it or inherit it, but either way should be able to test \n",
    "# use the hint __subclasses__() and _abc_registry w\n",
    "# use tests -- globals() is the global where this works\n",
    "# need to enhance globals() to make this works\n",
    "\n",
    "# pass into Doctests some globals\n",
    "# use this environment in the test\n",
    "# implement CapitalStack\n",
    "\n",
    "# register it\n",
    "class ListStack:\n",
    "\n",
    "    def __init__(self):\n",
    "        self.items = []\n",
    "    \n",
    "    def push(self, item):\n",
    "        self.items.append(item)\n",
    "    \n",
    "    def pop(self):\n",
    "        return self.items.pop()\n",
    "    \n",
    "    def peek(self):\n",
    "        print(self.items[len(self.items)-1])\n",
    "    \n",
    "StackInterface.register(ListStack)"
   ]
  },
  {
   "cell_type": "code",
   "execution_count": 100,
   "metadata": {
    "collapsed": false
   },
   "outputs": [
    {
     "data": {
      "text/plain": [
       "[]"
      ]
     },
     "execution_count": 100,
     "metadata": {},
     "output_type": "execute_result"
    }
   ],
   "source": [
    "# won't be in subclasses because it's a virtual subclass that was registered not directly inherited from\n",
    "StackInterface.__subclasses__()"
   ]
  },
  {
   "cell_type": "code",
   "execution_count": 103,
   "metadata": {
    "collapsed": false
   },
   "outputs": [
    {
     "data": {
      "text/plain": [
       "[__main__.ListStack,\n",
       " __main__.ListStack,\n",
       " __main__.ListStack,\n",
       " __main__.ListStack,\n",
       " __main__.ListStack]"
      ]
     },
     "execution_count": 103,
     "metadata": {},
     "output_type": "execute_result"
    }
   ],
   "source": [
    "list(StackInterface._abc_registry)"
   ]
  },
  {
   "cell_type": "code",
   "execution_count": 102,
   "metadata": {
    "collapsed": false
   },
   "outputs": [
    {
     "name": "stdout",
     "output_type": "stream",
     "text": [
      "Finding tests in NoName\n",
      "Trying:\n",
      "    a = Stack()\n",
      "Expecting nothing\n",
      "ok\n",
      "Trying:\n",
      "    a.push(1)\n",
      "Expecting nothing\n",
      "ok\n",
      "Trying:\n",
      "    a.push(2)\n",
      "Expecting nothing\n",
      "ok\n",
      "Trying:\n",
      "    a.peek()\n",
      "Expecting:\n",
      "    2\n",
      "ok\n",
      "Trying:\n",
      "    a.pop()\n",
      "Expecting:\n",
      "    2\n",
      "ok\n",
      "Trying:\n",
      "    a.pop()\n",
      "Expecting:\n",
      "    1\n",
      "ok\n",
      "Trying:\n",
      "    a.peek()\n",
      "Expecting nothing\n",
      "**********************************************************************\n",
      "File \"__main__\", line ?, in NoName\n",
      "Failed example:\n",
      "    a.peek()\n",
      "Exception raised:\n",
      "    Traceback (most recent call last):\n",
      "      File \"/Users/amylee/anaconda/envs/ana24py35/lib/python3.5/doctest.py\", line 1320, in __run\n",
      "        compileflags, 1), test.globs)\n",
      "      File \"<doctest NoName[6]>\", line 1, in <module>\n",
      "        a.peek()\n",
      "      File \"<ipython-input-99-211bed22f2d1>\", line 26, in peek\n",
      "        print(self.items[len(self.items)-1])\n",
      "    IndexError: list index out of range\n",
      "Trying:\n",
      "    a.pop()\n",
      "Expecting nothing\n",
      "**********************************************************************\n",
      "File \"__main__\", line ?, in NoName\n",
      "Failed example:\n",
      "    a.pop()\n",
      "Exception raised:\n",
      "    Traceback (most recent call last):\n",
      "      File \"/Users/amylee/anaconda/envs/ana24py35/lib/python3.5/doctest.py\", line 1320, in __run\n",
      "        compileflags, 1), test.globs)\n",
      "      File \"<doctest NoName[7]>\", line 1, in <module>\n",
      "        a.pop()\n",
      "      File \"<ipython-input-99-211bed22f2d1>\", line 23, in pop\n",
      "        return self.items.pop()\n",
      "    IndexError: pop from empty list\n"
     ]
    }
   ],
   "source": [
    "#your code here\n",
    "# https://docs.python.org/3/library/doctest.html#which-docstrings-are-examine\n",
    "\n",
    "# Benefit: This allows you to write one set of tests on an interface and check that every possible implementation conforms to\n",
    "# that interface\n",
    "\n",
    "test_globals = dict(globals())\n",
    "# can iterate through StackInterface.__subclasses__() or StackInterface._abc_registry_()\n",
    "# can do this with each implementation instead of liststack\n",
    "test_globals['Stack'] = ListStack\n",
    "dtest(StackInterface, test_globals, verbose=True)"
   ]
  },
  {
   "cell_type": "markdown",
   "metadata": {},
   "source": [
    "How do we test this using the tests in `StackInterface`? And in general for other virtual or real subclasses? Show this here. (work out doing this from a file at home, you dont need to answer the file case here). This recipe wont work with py.test"
   ]
  },
  {
   "cell_type": "markdown",
   "metadata": {},
   "source": [
    "### Q4. Your Timeseries Project (GROUP)\n",
    "\n",
    "Operator overloading on your `TimeSeries` class.\n",
    "\n",
    "Your `TimeSeries` class should be, by now, a well documented, well tested, mutable, class which implements:\n",
    "\n",
    "- `__getitem__`: to get a value for a given time\n",
    "- `__setitem__`: set the value for the given time\n",
    "- `__contains__`: is a value in the values\n",
    "- `__iter__`: iterates over values. (This might have iterated over tuples of (time, value) pairs earlier\n",
    "- `values`: returns a numpy array of values\n",
    "- `itervalues`: returns an iterator over them\n",
    "- `times`: returns a numpy array of times\n",
    "- `itertimes`: returns an iterator over them\n",
    "- `items`: returns a list of time-value tuple pairs\n",
    "- `iteritems`: returns an iterator over these\n",
    "- `__len__`: returns a length.\n",
    "- `__repr__`: abbreviating spring representation\n",
    "\n",
    "Add to these methods(again well tested):\n",
    "\n",
    "- infix addition, subtraction, equality and multiplication. Here you must check that the lengths are equal and that the time domains are the same for the case of the operations on a TimeSeries (the latter implies the former). Return a `ValueError` in case this fails:\n",
    "\n",
    "`ValueError(str(self)+' and '+str(rhs)+' must have the same time points')`\n",
    "\n",
    "Let these be elementwise operations, as we might expect from a numpy array-like thing. As before, handle the case of a constant.\n",
    "- unary `__abs__`, `__bool__`, `__neg__`, and `__pos__` with the same semantics as the `Vector` class above.\n",
    "\n",
    "\n",
    "A question that might arise is what to do if we add numpy arrays or regular python lists. These should fail with `raise NotImplemented` as we dont have time associated. An option might have been to associate the array with the time indexing of the other array, but this is making too many assumptions: the user can do this explicitly.\n",
    "\n",
    "You will probably have to catch another exception for this to happen.\n",
    "\n",
    "Put this code into your project repo."
   ]
  },
  {
   "cell_type": "code",
   "execution_count": null,
   "metadata": {
    "collapsed": true
   },
   "outputs": [],
   "source": [
    "# make sure these things are all added already\n",
    "# then add these other things\n",
    "# make sure the times are the same between the different times.. better have same indexces for the values inside of the time series\n",
    "# support the element-wise addition\n",
    "# implementing this for two time series ... handle case of constant. Once have template. \n",
    "# in the near future, we are going to reflect it into the language we've started defining"
   ]
  },
  {
   "cell_type": "markdown",
   "metadata": {
    "collapsed": true
   },
   "source": [
    "### TO READ: Numpy ufuncs and function overloading\n",
    "\n",
    "Check this out. Read http://docs.scipy.org/doc/numpy-dev/reference/arrays.classes.html#special-attributes-and-methods to understand how this works. We will use it later."
   ]
  },
  {
   "cell_type": "code",
   "execution_count": 1,
   "metadata": {
    "collapsed": false
   },
   "outputs": [],
   "source": [
    "import numpy as np\n",
    "import pandas as pd\n",
    "p=pd.Series([1,2,3])\n",
    "print(type(p))\n",
    "p2=np.exp(p)\n",
    "p2, type(p2)"
   ]
  }
 ],
 "metadata": {
  "kernelspec": {
   "display_name": "Python 3",
   "language": "python",
   "name": "python3"
  },
  "language_info": {
   "codemirror_mode": {
    "name": "ipython",
    "version": 3
   },
   "file_extension": ".py",
   "mimetype": "text/x-python",
   "name": "python",
   "nbconvert_exporter": "python",
   "pygments_lexer": "ipython3",
   "version": "3.5.1"
  }
 },
 "nbformat": 4,
 "nbformat_minor": 0
}
